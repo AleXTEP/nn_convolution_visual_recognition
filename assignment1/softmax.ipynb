{
 "cells": [
  {
   "cell_type": "markdown",
   "metadata": {},
   "source": [
    "# Softmax exercise\n",
    "\n",
    "*Complete and hand in this completed worksheet (including its outputs and any supporting code outside of the worksheet) with your assignment submission. For more details see the [assignments page](http://vision.stanford.edu/teaching/cs231n/assignments.html) on the course website.*\n",
    "\n",
    "This exercise is analogous to the SVM exercise. You will:\n",
    "\n",
    "- implement a fully-vectorized **loss function** for the Softmax classifier\n",
    "- implement the fully-vectorized expression for its **analytic gradient**\n",
    "- **check your implementation** with numerical gradient\n",
    "- use a validation set to **tune the learning rate and regularization** strength\n",
    "- **optimize** the loss function with **SGD**\n",
    "- **visualize** the final learned weights\n"
   ]
  },
  {
   "cell_type": "code",
   "execution_count": 1,
   "metadata": {
    "collapsed": false
   },
   "outputs": [],
   "source": [
    "import random\n",
    "import numpy as np\n",
    "from cs231n.data_utils import load_CIFAR10\n",
    "import matplotlib.pyplot as plt\n",
    "\n",
    "from __future__ import print_function\n",
    "\n",
    "%matplotlib inline\n",
    "plt.rcParams['figure.figsize'] = (10.0, 8.0) # set default size of plots\n",
    "plt.rcParams['image.interpolation'] = 'nearest'\n",
    "plt.rcParams['image.cmap'] = 'gray'\n",
    "\n",
    "# for auto-reloading extenrnal modules\n",
    "# see http://stackoverflow.com/questions/1907993/autoreload-of-modules-in-ipython\n",
    "%load_ext autoreload\n",
    "%autoreload 2"
   ]
  },
  {
   "cell_type": "code",
   "execution_count": 2,
   "metadata": {
    "collapsed": false
   },
   "outputs": [
    {
     "name": "stdout",
     "output_type": "stream",
     "text": [
      "Train data shape:  (49000, 3073)\n",
      "Train labels shape:  (49000,)\n",
      "Validation data shape:  (1000, 3073)\n",
      "Validation labels shape:  (1000,)\n",
      "Test data shape:  (1000, 3073)\n",
      "Test labels shape:  (1000,)\n",
      "dev data shape:  (500, 3073)\n",
      "dev labels shape:  (500,)\n"
     ]
    }
   ],
   "source": [
    "def get_CIFAR10_data(num_training=49000, num_validation=1000, num_test=1000, num_dev=500):\n",
    "    \"\"\"\n",
    "    Load the CIFAR-10 dataset from disk and perform preprocessing to prepare\n",
    "    it for the linear classifier. These are the same steps as we used for the\n",
    "    SVM, but condensed to a single function.  \n",
    "    \"\"\"\n",
    "    # Load the raw CIFAR-10 data\n",
    "    cifar10_dir = 'cs231n/datasets/cifar-10-batches-py'\n",
    "    X_train, y_train, X_test, y_test = load_CIFAR10(cifar10_dir)\n",
    "    \n",
    "    # subsample the data\n",
    "    mask = list(range(num_training, num_training + num_validation))\n",
    "    X_val = X_train[mask]\n",
    "    y_val = y_train[mask]\n",
    "    mask = list(range(num_training))\n",
    "    X_train = X_train[mask]\n",
    "    y_train = y_train[mask]\n",
    "    mask = list(range(num_test))\n",
    "    X_test = X_test[mask]\n",
    "    y_test = y_test[mask]\n",
    "    mask = np.random.choice(num_training, num_dev, replace=False)\n",
    "    X_dev = X_train[mask]\n",
    "    y_dev = y_train[mask]\n",
    "    \n",
    "    # Preprocessing: reshape the image data into rows\n",
    "    X_train = np.reshape(X_train, (X_train.shape[0], -1))\n",
    "    X_val = np.reshape(X_val, (X_val.shape[0], -1))\n",
    "    X_test = np.reshape(X_test, (X_test.shape[0], -1))\n",
    "    X_dev = np.reshape(X_dev, (X_dev.shape[0], -1))\n",
    "    \n",
    "    # Normalize the data: subtract the mean image\n",
    "    mean_image = np.mean(X_train, axis = 0)\n",
    "    X_train -= mean_image\n",
    "    X_val -= mean_image\n",
    "    X_test -= mean_image\n",
    "    X_dev -= mean_image\n",
    "    \n",
    "    # add bias dimension and transform into columns\n",
    "    X_train = np.hstack([X_train, np.ones((X_train.shape[0], 1))])\n",
    "    X_val = np.hstack([X_val, np.ones((X_val.shape[0], 1))])\n",
    "    X_test = np.hstack([X_test, np.ones((X_test.shape[0], 1))])\n",
    "    X_dev = np.hstack([X_dev, np.ones((X_dev.shape[0], 1))])\n",
    "    \n",
    "    return X_train, y_train, X_val, y_val, X_test, y_test, X_dev, y_dev\n",
    "\n",
    "\n",
    "# Invoke the above function to get our data.\n",
    "X_train, y_train, X_val, y_val, X_test, y_test, X_dev, y_dev = get_CIFAR10_data()\n",
    "print('Train data shape: ', X_train.shape)\n",
    "print('Train labels shape: ', y_train.shape)\n",
    "print('Validation data shape: ', X_val.shape)\n",
    "print('Validation labels shape: ', y_val.shape)\n",
    "print('Test data shape: ', X_test.shape)\n",
    "print('Test labels shape: ', y_test.shape)\n",
    "print('dev data shape: ', X_dev.shape)\n",
    "print('dev labels shape: ', y_dev.shape)"
   ]
  },
  {
   "cell_type": "markdown",
   "metadata": {},
   "source": [
    "## Softmax Classifier\n",
    "\n",
    "Your code for this section will all be written inside **cs231n/classifiers/softmax.py**. \n"
   ]
  },
  {
   "cell_type": "code",
   "execution_count": 3,
   "metadata": {
    "collapsed": false
   },
   "outputs": [
    {
     "name": "stdout",
     "output_type": "stream",
     "text": [
      "loss: 2.360786\n",
      "sanity check: 2.302585\n"
     ]
    }
   ],
   "source": [
    "# First implement the naive softmax loss function with nested loops.\n",
    "# Open the file cs231n/classifiers/softmax.py and implement the\n",
    "# softmax_loss_naive function.\n",
    "\n",
    "from cs231n.classifiers.softmax import softmax_loss_naive\n",
    "import time\n",
    "\n",
    "# Generate a random softmax weight matrix and use it to compute the loss.\n",
    "W = np.random.randn(3073, 10) * 0.0001\n",
    "loss, grad = softmax_loss_naive(W, X_dev, y_dev, 0.0)\n",
    "\n",
    "# As a rough sanity check, our loss should be something close to -log(0.1).\n",
    "print('loss: %f' % loss)\n",
    "print('sanity check: %f' % (-np.log(0.1)))"
   ]
  },
  {
   "cell_type": "markdown",
   "metadata": {},
   "source": [
    "## Inline Question 1:\n",
    "Why do we expect our loss to be close to -log(0.1)? Explain briefly.**\n",
    "\n",
    "**Your answer:** *we have 10 classes, 0.1 it's probability to get a correct class randomly*\n"
   ]
  },
  {
   "cell_type": "code",
   "execution_count": 4,
   "metadata": {
    "collapsed": false
   },
   "outputs": [
    {
     "name": "stdout",
     "output_type": "stream",
     "text": [
      "numerical: 2.418042 analytic: 2.418042, relative error: 2.413730e-08\n",
      "numerical: -0.388135 analytic: -0.388135, relative error: 8.932643e-09\n",
      "numerical: -0.300719 analytic: -0.300720, relative error: 1.139018e-07\n",
      "numerical: -2.643525 analytic: -2.643525, relative error: 8.159909e-09\n",
      "numerical: -0.322215 analytic: -0.322215, relative error: 1.833193e-07\n",
      "numerical: -1.384807 analytic: -1.384807, relative error: 4.684493e-10\n",
      "numerical: 1.740296 analytic: 1.740296, relative error: 4.154959e-08\n",
      "numerical: 0.817065 analytic: 0.817065, relative error: 1.400799e-08\n",
      "numerical: 0.464472 analytic: 0.464472, relative error: 1.366698e-08\n",
      "numerical: 1.267491 analytic: 1.267491, relative error: 3.462647e-08\n",
      "numerical: -1.338088 analytic: -1.338203, relative error: 4.328255e-05\n",
      "numerical: 0.930613 analytic: 0.930646, relative error: 1.742428e-05\n",
      "numerical: -2.176693 analytic: -2.176739, relative error: 1.068212e-05\n",
      "numerical: 3.391821 analytic: 3.391944, relative error: 1.813128e-05\n",
      "numerical: 3.345873 analytic: 3.345995, relative error: 1.811890e-05\n",
      "numerical: -0.428800 analytic: -0.428852, relative error: 5.962177e-05\n",
      "numerical: -4.362617 analytic: -4.362540, relative error: 8.882299e-06\n",
      "numerical: -1.124559 analytic: -1.124627, relative error: 3.052483e-05\n",
      "numerical: -2.570163 analytic: -2.570118, relative error: 8.715501e-06\n",
      "numerical: -2.727054 analytic: -2.727182, relative error: 2.354526e-05\n"
     ]
    }
   ],
   "source": [
    "# Complete the implementation of softmax_loss_naive and implement a (naive)\n",
    "# version of the gradient that uses nested loops.\n",
    "loss, grad = softmax_loss_naive(W, X_dev, y_dev, 0.0)\n",
    "\n",
    "# As we did for the SVM, use numeric gradient checking as a debugging tool.\n",
    "# The numeric gradient should be close to the analytic gradient.\n",
    "from cs231n.gradient_check import grad_check_sparse\n",
    "f = lambda w: softmax_loss_naive(w, X_dev, y_dev, 0.0)[0]\n",
    "grad_numerical = grad_check_sparse(f, W, grad, 10)\n",
    "\n",
    "# similar to SVM case, do another gradient check with regularization\n",
    "loss, grad = softmax_loss_naive(W, X_dev, y_dev, 5e1)\n",
    "f = lambda w: softmax_loss_naive(w, X_dev, y_dev, 5e1)[0]\n",
    "grad_numerical = grad_check_sparse(f, W, grad, 10)"
   ]
  },
  {
   "cell_type": "code",
   "execution_count": 7,
   "metadata": {
    "collapsed": false
   },
   "outputs": [
    {
     "name": "stdout",
     "output_type": "stream",
     "text": [
      "naive loss: 2.360786e+00 computed in 0.353310s\n",
      "vectorized loss: 2.360786e+00 computed in 0.010697s\n",
      "Loss difference: 0.000000\n",
      "Gradient difference: 0.000000\n"
     ]
    }
   ],
   "source": [
    "# Now that we have a naive implementation of the softmax loss function and its gradient,\n",
    "# implement a vectorized version in softmax_loss_vectorized.\n",
    "# The two versions should compute the same results, but the vectorized version should be\n",
    "# much faster.\n",
    "tic = time.time()\n",
    "loss_naive, grad_naive = softmax_loss_naive(W, X_dev, y_dev, 0.000005)\n",
    "toc = time.time()\n",
    "print('naive loss: %e computed in %fs' % (loss_naive, toc - tic))\n",
    "\n",
    "from cs231n.classifiers.softmax import softmax_loss_vectorized\n",
    "tic = time.time()\n",
    "loss_vectorized, grad_vectorized = softmax_loss_vectorized(W, X_dev, y_dev, 0.000005)\n",
    "toc = time.time()\n",
    "print('vectorized loss: %e computed in %fs' % (loss_vectorized, toc - tic))\n",
    "\n",
    "# As we did for the SVM, we use the Frobenius norm to compare the two versions\n",
    "# of the gradient.\n",
    "grad_difference = np.linalg.norm(grad_naive - grad_vectorized, ord='fro')\n",
    "print('Loss difference: %f' % np.abs(loss_naive - loss_vectorized))\n",
    "print('Gradient difference: %f' % grad_difference)"
   ]
  },
  {
   "cell_type": "code",
   "execution_count": 15,
   "metadata": {
    "collapsed": false,
    "scrolled": true
   },
   "outputs": [
    {
     "name": "stdout",
     "output_type": "stream",
     "text": [
      "iteration 0 / 2000: loss 6.130260\n",
      "iteration 100 / 2000: loss 3.724383\n",
      "iteration 200 / 2000: loss 2.807078\n",
      "iteration 300 / 2000: loss 2.620709\n",
      "iteration 400 / 2000: loss 2.399060\n",
      "iteration 500 / 2000: loss 2.160199\n",
      "iteration 600 / 2000: loss 2.082104\n",
      "iteration 700 / 2000: loss 1.929491\n",
      "iteration 800 / 2000: loss 1.952335\n",
      "iteration 900 / 2000: loss 1.923780\n",
      "iteration 1000 / 2000: loss 1.922192\n",
      "iteration 1100 / 2000: loss 1.888593\n",
      "iteration 1200 / 2000: loss 1.976512\n",
      "iteration 1300 / 2000: loss 1.889724\n",
      "iteration 1400 / 2000: loss 1.978273\n",
      "iteration 1500 / 2000: loss 1.862003\n",
      "iteration 1600 / 2000: loss 1.918196\n",
      "iteration 1700 / 2000: loss 1.862196\n",
      "iteration 1800 / 2000: loss 1.906165\n",
      "iteration 1900 / 2000: loss 1.896303\n",
      "iteration 0 / 2000: loss 5.762085\n",
      "iteration 100 / 2000: loss 3.962573\n",
      "iteration 200 / 2000: loss 2.985808\n",
      "iteration 300 / 2000: loss 2.456630\n",
      "iteration 400 / 2000: loss 2.313436\n",
      "iteration 500 / 2000: loss 2.231856\n",
      "iteration 600 / 2000: loss 2.138444\n",
      "iteration 700 / 2000: loss 2.200409\n",
      "iteration 800 / 2000: loss 2.140632\n",
      "iteration 900 / 2000: loss 1.983226\n",
      "iteration 1000 / 2000: loss 1.934189\n",
      "iteration 1100 / 2000: loss 1.914019\n",
      "iteration 1200 / 2000: loss 1.936411\n",
      "iteration 1300 / 2000: loss 1.890113\n",
      "iteration 1400 / 2000: loss 1.846732\n",
      "iteration 1500 / 2000: loss 1.980409\n",
      "iteration 1600 / 2000: loss 1.899098\n",
      "iteration 1700 / 2000: loss 1.851015\n",
      "iteration 1800 / 2000: loss 1.895812\n",
      "iteration 1900 / 2000: loss 1.885372\n",
      "iteration 0 / 2000: loss 5.198961\n",
      "iteration 100 / 2000: loss 3.298193\n",
      "iteration 200 / 2000: loss 2.572433\n",
      "iteration 300 / 2000: loss 2.463865\n",
      "iteration 400 / 2000: loss 2.065247\n",
      "iteration 500 / 2000: loss 2.120639\n",
      "iteration 600 / 2000: loss 2.046285\n",
      "iteration 700 / 2000: loss 1.949832\n",
      "iteration 800 / 2000: loss 1.978139\n",
      "iteration 900 / 2000: loss 1.887725\n",
      "iteration 1000 / 2000: loss 1.902202\n",
      "iteration 1100 / 2000: loss 1.919552\n",
      "iteration 1200 / 2000: loss 1.979651\n",
      "iteration 1300 / 2000: loss 1.942912\n",
      "iteration 1400 / 2000: loss 1.921279\n",
      "iteration 1500 / 2000: loss 1.866716\n",
      "iteration 1600 / 2000: loss 1.899837\n",
      "iteration 1700 / 2000: loss 1.948793\n",
      "iteration 1800 / 2000: loss 1.931272\n",
      "iteration 1900 / 2000: loss 1.948471\n",
      "lr 1.000000e-07 reg 8.000000e+03 train accuracy: 0.361449 val accuracy: 0.376000\n",
      "lr 1.000000e-07 reg 9.000000e+03 train accuracy: 0.361122 val accuracy: 0.383000\n",
      "lr 1.000000e-07 reg 1.000000e+04 train accuracy: 0.354184 val accuracy: 0.365000\n",
      "best validation accuracy achieved during cross-validation: 0.383000\n"
     ]
    }
   ],
   "source": [
    "# Use the validation set to tune hyperparameters (regularization strength and\n",
    "# learning rate). You should experiment with different ranges for the learning\n",
    "# rates and regularization strengths; if you are careful you should be able to\n",
    "# get a classification accuracy of over 0.35 on the validation set.\n",
    "from cs231n.classifiers import Softmax\n",
    "results = {}\n",
    "best_val = -1\n",
    "best_softmax = None\n",
    "learning_rates = [1e-7]\n",
    "regularization_strengths = [0.8e4, 0.9e4, 1e4]\n",
    "\n",
    "\n",
    "################################################################################\n",
    "# TODO:                                                                        #\n",
    "# Use the validation set to set the learning rate and regularization strength. #\n",
    "# This should be identical to the validation that you did for the SVM; save    #\n",
    "# the best trained softmax classifer in best_softmax.                          #\n",
    "################################################################################\n",
    "for lr in learning_rates:\n",
    "    for rs in regularization_strengths:\n",
    "        softm = Softmax()\n",
    "        loss_hist = softm.train(X_train, y_train, learning_rate=lr, reg=rs,\n",
    "                      num_iters=2000, verbose=True)\n",
    "        \n",
    "        y_train_pred = softm.predict(X_train)        \n",
    "        y_val_pred = softm.predict(X_val)\n",
    "        \n",
    "        tr_accuracy  = np.mean(y_train == y_train_pred)\n",
    "        val_accuracy = np.mean(y_val == y_val_pred)\n",
    "      \n",
    "        if val_accuracy > best_val:\n",
    "            best_val = val_accuracy\n",
    "            best_softmax = softm\n",
    "        \n",
    "    \n",
    "        results[(lr, rs)] = (tr_accuracy, val_accuracy)\n",
    "################################################################################\n",
    "#                              END OF YOUR CODE                                #\n",
    "################################################################################\n",
    "    \n",
    "# Print out results.\n",
    "for lr, reg in sorted(results):\n",
    "    train_accuracy, val_accuracy = results[(lr, reg)]\n",
    "    print('lr %e reg %e train accuracy: %f val accuracy: %f' % (\n",
    "                lr, reg, train_accuracy, val_accuracy))\n",
    "    \n",
    "print('best validation accuracy achieved during cross-validation: %f' % best_val)"
   ]
  },
  {
   "cell_type": "code",
   "execution_count": 13,
   "metadata": {
    "collapsed": false
   },
   "outputs": [
    {
     "name": "stdout",
     "output_type": "stream",
     "text": [
      "softmax on raw pixels final test set accuracy: 0.364000\n"
     ]
    }
   ],
   "source": [
    "# evaluate on test set\n",
    "# Evaluate the best softmax on test set\n",
    "y_test_pred = best_softmax.predict(X_test)\n",
    "test_accuracy = np.mean(y_test == y_test_pred)\n",
    "print('softmax on raw pixels final test set accuracy: %f' % (test_accuracy, ))"
   ]
  },
  {
   "cell_type": "code",
   "execution_count": 14,
   "metadata": {
    "collapsed": false
   },
   "outputs": [
    {
     "data": {
      "image/png": "[encoded data removed]",
      "text/plain": [
       "<matplotlib.figure.Figure at 0x7fdb77c4b6d8>"
      ]
     },
     "metadata": {},
     "output_type": "display_data"
    }
   ],
   "source": [
    "# Visualize the learned weights for each class\n",
    "w = best_softmax.W[:-1,:] # strip out the bias\n",
    "w = w.reshape(32, 32, 3, 10)\n",
    "\n",
    "w_min, w_max = np.min(w), np.max(w)\n",
    "\n",
    "classes = ['plane', 'car', 'bird', 'cat', 'deer', 'dog', 'frog', 'horse', 'ship', 'truck']\n",
    "for i in range(10):\n",
    "    plt.subplot(2, 5, i + 1)\n",
    "    \n",
    "    # Rescale the weights to be between 0 and 255\n",
    "    wimg = 255.0 * (w[:, :, :, i].squeeze() - w_min) / (w_max - w_min)\n",
    "    plt.imshow(wimg.astype('uint8'))\n",
    "    plt.axis('off')\n",
    "    plt.title(classes[i])"
   ]
  }
 ],
 "metadata": {
  "kernelspec": {
   "display_name": "Python 3",
   "language": "python",
   "name": "python3"
  },
  "language_info": {
   "codemirror_mode": {
    "name": "ipython",
    "version": 3
   },
   "file_extension": ".py",
   "mimetype": "text/x-python",
   "name": "python",
   "nbconvert_exporter": "python",
   "pygments_lexer": "ipython3",
   "version": "3.6.0"
  }
 },
 "nbformat": 4,
 "nbformat_minor": 0
}
